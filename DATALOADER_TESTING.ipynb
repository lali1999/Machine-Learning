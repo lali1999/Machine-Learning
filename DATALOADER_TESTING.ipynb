{
 "cells": [
  {
   "attachments": {},
   "cell_type": "markdown",
   "metadata": {},
   "source": [
    "# Testing Dataloader"
   ]
  },
  {
   "cell_type": "code",
   "execution_count": 1,
   "metadata": {},
   "outputs": [],
   "source": [
    "%load_ext autoreload\n",
    "%autoreload 2"
   ]
  },
  {
   "cell_type": "code",
   "execution_count": 2,
   "metadata": {},
   "outputs": [],
   "source": [
    "import numpy as np\n",
    "import torch"
   ]
  },
  {
   "cell_type": "code",
   "execution_count": 9,
   "metadata": {},
   "outputs": [],
   "source": [
    "from datasets import ChloroDataset\n",
    "from torch.utils.data import DataLoader"
   ]
  },
  {
   "cell_type": "code",
   "execution_count": 4,
   "metadata": {},
   "outputs": [],
   "source": [
    "test_ds = ChloroDataset(\n",
    "    files_directory = \"./data/requested_files/\", \n",
    "    timesteps_in = 10,\n",
    "    timesteps_out = 30\n",
    ")"
   ]
  },
  {
   "cell_type": "code",
   "execution_count": 5,
   "metadata": {},
   "outputs": [],
   "source": [
    "x = test_ds[10]\n",
    "t_in, t_out, t_info = x['t_gt'], x['t_forecast'], x['t_info']"
   ]
  },
  {
   "cell_type": "code",
   "execution_count": 6,
   "metadata": {},
   "outputs": [
    {
     "data": {
      "text/plain": [
       "torch.Size([10, 568, 439])"
      ]
     },
     "execution_count": 6,
     "metadata": {},
     "output_type": "execute_result"
    }
   ],
   "source": [
    "t_in.shape"
   ]
  },
  {
   "cell_type": "code",
   "execution_count": 7,
   "metadata": {},
   "outputs": [
    {
     "data": {
      "text/plain": [
       "([10, 20], [20, 50])"
      ]
     },
     "execution_count": 7,
     "metadata": {},
     "output_type": "execute_result"
    }
   ],
   "source": [
    "t_info"
   ]
  },
  {
   "cell_type": "code",
   "execution_count": 8,
   "metadata": {},
   "outputs": [
    {
     "data": {
      "text/plain": [
       "['./data/requested_files/AQUA_MODIS.20230311.L3m.DAY.CHL.NRT.x_chlor_a.nc',\n",
       " './data/requested_files/AQUA_MODIS.20230312.L3m.DAY.CHL.NRT.x_chlor_a.nc',\n",
       " './data/requested_files/AQUA_MODIS.20230313.L3m.DAY.CHL.NRT.x_chlor_a.nc',\n",
       " './data/requested_files/AQUA_MODIS.20230314.L3m.DAY.CHL.NRT.x_chlor_a.nc',\n",
       " './data/requested_files/AQUA_MODIS.20230315.L3m.DAY.CHL.NRT.x_chlor_a.nc',\n",
       " './data/requested_files/AQUA_MODIS.20230316.L3m.DAY.CHL.NRT.x_chlor_a.nc',\n",
       " './data/requested_files/AQUA_MODIS.20230317.L3m.DAY.CHL.NRT.x_chlor_a.nc',\n",
       " './data/requested_files/AQUA_MODIS.20230318.L3m.DAY.CHL.NRT.x_chlor_a.nc',\n",
       " './data/requested_files/AQUA_MODIS.20230319.L3m.DAY.CHL.NRT.x_chlor_a.nc',\n",
       " './data/requested_files/AQUA_MODIS.20230320.L3m.DAY.CHL.NRT.x_chlor_a.nc']"
      ]
     },
     "execution_count": 8,
     "metadata": {},
     "output_type": "execute_result"
    }
   ],
   "source": [
    "test_ds.data_files[t_info[0][0]:t_info[0][1]]"
   ]
  },
  {
   "cell_type": "code",
   "execution_count": 15,
   "metadata": {},
   "outputs": [],
   "source": [
    "test_loader = DataLoader(test_ds, batch_size=32, num_workers=4)\n",
    "\n",
    "batch = next(iter(test_loader))\n",
    "\n",
    "t_in, t_out, t_info = batch[\"t_gt\"], batch[\"t_forecast\"], batch[\"t_info\"]"
   ]
  },
  {
   "cell_type": "code",
   "execution_count": 18,
   "metadata": {},
   "outputs": [
    {
     "data": {
      "text/plain": [
       "torch.Size([16, 30, 568, 439])"
      ]
     },
     "execution_count": 18,
     "metadata": {},
     "output_type": "execute_result"
    }
   ],
   "source": [
    "t_out.shape"
   ]
  },
  {
   "cell_type": "code",
   "execution_count": null,
   "metadata": {},
   "outputs": [],
   "source": []
  }
 ],
 "metadata": {
  "kernelspec": {
   "display_name": "dros",
   "language": "python",
   "name": "dros"
  },
  "language_info": {
   "codemirror_mode": {
    "name": "ipython",
    "version": 3
   },
   "file_extension": ".py",
   "mimetype": "text/x-python",
   "name": "python",
   "nbconvert_exporter": "python",
   "pygments_lexer": "ipython3",
   "version": "3.8.13"
  }
 },
 "nbformat": 4,
 "nbformat_minor": 2
}
